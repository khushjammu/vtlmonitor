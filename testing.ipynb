{
 "cells": [
  {
   "cell_type": "code",
   "execution_count": 1,
   "id": "a9077fe5",
   "metadata": {},
   "outputs": [],
   "source": [
    "import os\n",
    "import requests as r\n",
    "from bs4 import BeautifulSoup"
   ]
  },
  {
   "cell_type": "code",
   "execution_count": 2,
   "id": "a6083dd0",
   "metadata": {},
   "outputs": [],
   "source": [
    "result = r.get(\"https://mybooking.transtar.travel/transtar-schedule\")"
   ]
  },
  {
   "cell_type": "code",
   "execution_count": 3,
   "id": "e904efcd",
   "metadata": {},
   "outputs": [],
   "source": [
    "soup = BeautifulSoup(result.text, 'html.parser')"
   ]
  },
  {
   "cell_type": "code",
   "execution_count": 8,
   "id": "30cd93b6",
   "metadata": {},
   "outputs": [],
   "source": [
    "reference = str(soup.table)"
   ]
  },
  {
   "cell_type": "code",
   "execution_count": 14,
   "id": "fd0f5ec5",
   "metadata": {},
   "outputs": [
    {
     "data": {
      "text/plain": [
       "'<table border=\"1\" style=\"border-collapse:collapse\">\\n<tr style=\"background-color:yellow\"><th style=\"padding:3px\">Departure Date</th><th style=\"padding:3px\">Singapore to Johor Bahru</th><th style=\"padding:3px\">Johor Bahru to Singapore</th></tr>\\n<tr><td style=\"font-weight:bold\">06/02/2022</td><td style=\"color:red\">Full</td><td style=\"color:red\">Full</td></tr><tr><td style=\"font-weight:bold\">07/02/2022</td><td style=\"color:red\">Full</td><td style=\"color:red\">Full</td></tr><tr><td style=\"font-weight:bold\">08/02/2022</td><td style=\"color:red\">Full</td><td style=\"color:red\">Full</td></tr><tr><td style=\"font-weight:bold\">09/02/2022</td><td style=\"color:red\">Full</td><td style=\"color:red\">Full</td></tr><tr><td style=\"font-weight:bold\">10/02/2022</td><td style=\"color:red\">Full</td><td style=\"color:red\">Full</td></tr><tr><td style=\"font-weight:bold\">11/02/2022</td><td style=\"color:red\">Full</td><td style=\"color:red\">Full</td></tr><tr><td style=\"font-weight:bold\">12/02/2022</td><td style=\"color:red\">Full</td><td style=\"color:red\">Full</td></tr><tr><td style=\"font-weight:bold\">13/02/2022</td><td style=\"color:red\">Full</td><td style=\"color:red\">Full</td></tr><tr><td style=\"font-weight:bold\">14/02/2022</td><td style=\"color:red\">Full</td><td style=\"color:red\">Full</td></tr><tr><td style=\"font-weight:bold\">15/02/2022</td><td style=\"color:red\">Full</td><td style=\"color:red\">Full</td></tr><tr><td style=\"font-weight:bold\">16/02/2022</td><td style=\"color:red\">Full</td><td style=\"color:red\">Full</td></tr><tr><td style=\"font-weight:bold\">17/02/2022</td><td style=\"color:red\">Full</td><td style=\"color:red\">Full</td></tr><tr><td style=\"font-weight:bold\">18/02/2022</td><td style=\"color:red\">Full</td><td style=\"color:red\">Full</td></tr><tr><td style=\"font-weight:bold\">19/02/2022</td><td style=\"color:red\">Full</td><td style=\"color:red\">Full</td></tr><tr><td style=\"font-weight:bold\">20/02/2022</td><td style=\"color:red\">Full</td><td style=\"color:red\">Full</td></tr><tr><td style=\"font-weight:bold\">21/02/2022</td><td style=\"color:red\">Full</td><td style=\"color:red\">Full</td></tr><tr><td style=\"font-weight:bold\">22/02/2022</td><td style=\"color:red\">Full</td><td style=\"color:red\">Full</td></tr><tr><td style=\"font-weight:bold\">23/02/2022</td><td style=\"color:red\">Full</td><td style=\"color:red\">Full</td></tr><tr><td style=\"font-weight:bold\">24/02/2022</td><td style=\"color:red\">Full</td><td style=\"color:red\">Full</td></tr><tr><td style=\"font-weight:bold\">25/02/2022</td><td style=\"color:red\">Full</td><td style=\"color:red\">Full</td></tr><tr><td style=\"font-weight:bold\">26/02/2022</td><td style=\"color:red\">Full</td><td style=\"color:red\">Full</td></tr><tr><td style=\"font-weight:bold\">27/02/2022</td><td style=\"color:red\">Full</td><td style=\"color:red\">Full</td></tr><tr><td style=\"font-weight:bold\">28/02/2022</td><td style=\"color:red\">Full</td><td style=\"color:red\">Full</td></tr><tr><td style=\"font-weight:bold\">01/03/2022</td><td style=\"color:red\">Full</td><td style=\"color:red\">Full</td></tr><tr><td style=\"font-weight:bold\">02/03/2022</td><td style=\"color:red\">Full</td><td style=\"color:red\">Full</td></tr><tr><td style=\"font-weight:bold\">03/03/2022</td><td style=\"color:red\">Full</td><td style=\"color:red\">Full</td></tr><tr><td style=\"font-weight:bold\">04/03/2022</td><td style=\"color:red\">Full</td><td style=\"color:red\">Full</td></tr><tr><td style=\"font-weight:bold\">05/03/2022</td><td style=\"color:red\">Full</td><td style=\"color:red\">Full</td></tr><tr><td style=\"font-weight:bold\">06/03/2022</td><td style=\"color:red\">Full</td><td style=\"color:red\">Full</td></tr><tr><td style=\"font-weight:bold\">07/03/2022</td><td style=\"color:red\">Full</td><td style=\"color:red\">Full</td></tr>\\n</table>'"
      ]
     },
     "execution_count": 14,
     "metadata": {},
     "output_type": "execute_result"
    }
   ],
   "source": [
    "reference.re"
   ]
  },
  {
   "cell_type": "code",
   "execution_count": 11,
   "id": "9f60a63a",
   "metadata": {},
   "outputs": [
    {
     "data": {
      "text/plain": [
       "True"
      ]
     },
     "execution_count": 11,
     "metadata": {},
     "output_type": "execute_result"
    }
   ],
   "source": [
    "result = r.get(\"https://mybooking.transtar.travel/transtar-schedule\")\n",
    "\n",
    "soup = BeautifulSoup(result.text, 'html.parser')\n",
    "\n",
    "reference == str(soup.table)"
   ]
  },
  {
   "cell_type": "code",
   "execution_count": 16,
   "id": "ae6b9ea8",
   "metadata": {},
   "outputs": [],
   "source": [
    "s = \"\"\n",
    "s +\"=\" * 10"
   ]
  },
  {
   "cell_type": "code",
   "execution_count": 17,
   "id": "5eb1c785",
   "metadata": {},
   "outputs": [
    {
     "data": {
      "text/plain": [
       "'=========='"
      ]
     },
     "execution_count": 17,
     "metadata": {},
     "output_type": "execute_result"
    }
   ],
   "source": [
    "s"
   ]
  },
  {
   "cell_type": "code",
   "execution_count": 6,
   "id": "1c0935b7",
   "metadata": {},
   "outputs": [],
   "source": [
    "# reference = \"\"\"VTL1\n",
    "# 1 Feb - 6 Feb Start Selling From  10 Jan 2022, 10am\n",
    "# The designated Vaccination Travel Lane (VTL) bus between Singapore and Malaysia via land transport.\n",
    "# LEARN MORE\n",
    "# \"\"\"\n",
    "\n",
    "reference = \"\"\"VTL1\n",
    "14 Feb - 28 Feb Start Selling From  14 Jan 2022, 9am\n",
    "The designated Vaccination Travel Lane (VTL) bus between Singapore and Malaysia via land transport.\n",
    "LEARN MORE\n",
    "\"\"\""
   ]
  },
  {
   "cell_type": "code",
   "execution_count": 7,
   "id": "316badad",
   "metadata": {},
   "outputs": [],
   "source": [
    "result = r.get(\"https://www.causewaylink.com.my/\")\n",
    "soup = BeautifulSoup(result.text, 'html.parser')\n",
    "\n",
    "scraped_text = \"\"\n",
    "\n",
    "for x in soup.find_all(id=\"slider-7-slide-15-layer-7\"): \n",
    "  scraped_text += x.get_text()"
   ]
  },
  {
   "cell_type": "code",
   "execution_count": 8,
   "id": "12d19163",
   "metadata": {},
   "outputs": [
    {
     "name": "stdout",
     "output_type": "stream",
     "text": [
      "unchanged\n"
     ]
    }
   ],
   "source": [
    "if reference == scraped_text:\n",
    "  print(\"unchanged\")\n",
    "else:\n",
    "  print(\"CHANGED OMG\")"
   ]
  },
  {
   "cell_type": "code",
   "execution_count": 5,
   "id": "a0041450",
   "metadata": {},
   "outputs": [
    {
     "name": "stdout",
     "output_type": "stream",
     "text": [
      "VTL1\n",
      "14 Feb - 28 Feb Start Selling From  14 Jan 2022, 9am\n",
      "The designated Vaccination Travel Lane (VTL) bus between Singapore and Malaysia via land transport.\n",
      "LEARN MORE\n",
      "\n"
     ]
    }
   ],
   "source": [
    "print(scraped_text)"
   ]
  },
  {
   "cell_type": "code",
   "execution_count": 61,
   "id": "b07666ca",
   "metadata": {},
   "outputs": [],
   "source": [
    "API_KEY = os.environ['PUSHOVER_TOKEN'] # 'affzjkx9wnjquea6omr3dsneavak8a'"
   ]
  },
  {
   "cell_type": "code",
   "execution_count": 66,
   "id": "41b24950",
   "metadata": {},
   "outputs": [
    {
     "data": {
      "text/plain": [
       "'{\"status\":1,\"request\":\"a3707a61-7777-4fa3-b411-58e6f9ac0c0f\"}'"
      ]
     },
     "execution_count": 66,
     "metadata": {},
     "output_type": "execute_result"
    }
   ],
   "source": [
    "r.post(\n",
    "  \"https://api.pushover.net/1/messages.json\",\n",
    "  data = {\n",
    "    \"token\": API_KEY,\n",
    "    \"user\": \"ukcppm8wzmu58ideby57h26td6czw2\",\n",
    "    \"message\": \"VTL change detected!\\nhttps://www.causewaylink.com.my/\"\n",
    "  }\n",
    ").text"
   ]
  },
  {
   "cell_type": "code",
   "execution_count": null,
   "id": "7e281144",
   "metadata": {},
   "outputs": [],
   "source": []
  },
  {
   "cell_type": "code",
   "execution_count": null,
   "id": "2cf0c628",
   "metadata": {},
   "outputs": [],
   "source": [
    "def a "
   ]
  },
  {
   "cell_type": "code",
   "execution_count": 19,
   "id": "1af11468",
   "metadata": {},
   "outputs": [
    {
     "name": "stdout",
     "output_type": "stream",
     "text": [
      "UH OH\n"
     ]
    },
    {
     "ename": "NotImplementedError",
     "evalue": "",
     "output_type": "error",
     "traceback": [
      "\u001b[0;31m---------------------------------------------------------------------------\u001b[0m",
      "\u001b[0;31mNotImplementedError\u001b[0m                       Traceback (most recent call last)",
      "\u001b[0;32m/var/folders/9b/nrql4vnd59v10wsspdz_9prm0000gn/T/ipykernel_10034/712303817.py\u001b[0m in \u001b[0;36m<module>\u001b[0;34m\u001b[0m\n\u001b[1;32m      3\u001b[0m \u001b[0;32mexcept\u001b[0m \u001b[0mException\u001b[0m \u001b[0;32mas\u001b[0m \u001b[0me\u001b[0m\u001b[0;34m:\u001b[0m\u001b[0;34m\u001b[0m\u001b[0;34m\u001b[0m\u001b[0m\n\u001b[1;32m      4\u001b[0m   \u001b[0mprint\u001b[0m\u001b[0;34m(\u001b[0m\u001b[0;34m\"UH OH\"\u001b[0m\u001b[0;34m)\u001b[0m\u001b[0;34m\u001b[0m\u001b[0;34m\u001b[0m\u001b[0m\n\u001b[0;32m----> 5\u001b[0;31m   \u001b[0;32mraise\u001b[0m \u001b[0me\u001b[0m\u001b[0;34m\u001b[0m\u001b[0;34m\u001b[0m\u001b[0m\n\u001b[0m",
      "\u001b[0;32m/var/folders/9b/nrql4vnd59v10wsspdz_9prm0000gn/T/ipykernel_10034/712303817.py\u001b[0m in \u001b[0;36m<module>\u001b[0;34m\u001b[0m\n\u001b[1;32m      1\u001b[0m \u001b[0;32mtry\u001b[0m\u001b[0;34m:\u001b[0m\u001b[0;34m\u001b[0m\u001b[0;34m\u001b[0m\u001b[0m\n\u001b[0;32m----> 2\u001b[0;31m   \u001b[0;32mraise\u001b[0m \u001b[0mNotImplementedError\u001b[0m\u001b[0;34m\u001b[0m\u001b[0;34m\u001b[0m\u001b[0m\n\u001b[0m\u001b[1;32m      3\u001b[0m \u001b[0;32mexcept\u001b[0m \u001b[0mException\u001b[0m \u001b[0;32mas\u001b[0m \u001b[0me\u001b[0m\u001b[0;34m:\u001b[0m\u001b[0;34m\u001b[0m\u001b[0;34m\u001b[0m\u001b[0m\n\u001b[1;32m      4\u001b[0m   \u001b[0mprint\u001b[0m\u001b[0;34m(\u001b[0m\u001b[0;34m\"UH OH\"\u001b[0m\u001b[0;34m)\u001b[0m\u001b[0;34m\u001b[0m\u001b[0;34m\u001b[0m\u001b[0m\n\u001b[1;32m      5\u001b[0m   \u001b[0;32mraise\u001b[0m \u001b[0me\u001b[0m\u001b[0;34m\u001b[0m\u001b[0;34m\u001b[0m\u001b[0m\n",
      "\u001b[0;31mNotImplementedError\u001b[0m: "
     ]
    }
   ],
   "source": [
    "try:\n",
    "  raise NotImplementedError\n",
    "except Exception as e:\n",
    "  print(\"UH OH\")\n",
    "  raise e"
   ]
  },
  {
   "cell_type": "code",
   "execution_count": null,
   "id": "c1bf25a5",
   "metadata": {},
   "outputs": [],
   "source": []
  }
 ],
 "metadata": {
  "kernelspec": {
   "display_name": "Python 3 (ipykernel)",
   "language": "python",
   "name": "python3"
  },
  "language_info": {
   "codemirror_mode": {
    "name": "ipython",
    "version": 3
   },
   "file_extension": ".py",
   "mimetype": "text/x-python",
   "name": "python",
   "nbconvert_exporter": "python",
   "pygments_lexer": "ipython3",
   "version": "3.7.7"
  }
 },
 "nbformat": 4,
 "nbformat_minor": 5
}
